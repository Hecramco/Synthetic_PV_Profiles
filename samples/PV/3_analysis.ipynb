{
 "cells": [
  {
   "cell_type": "code",
   "execution_count": 1,
   "metadata": {},
   "outputs": [],
   "source": [
    "import math, pickle, os, copy, sys, scipy.io\n",
    "import numpy as np\n",
    "import pandas as pd\n",
    "import seaborn as sns\n",
    "from numpy import random\n",
    "import matplotlib.pyplot as plt\n",
    "\n",
    "PROJECT_DIR = os.path.dirname(os.path.dirname(os.getcwd()))\n",
    "sys.path.insert(1, PROJECT_DIR)\n",
    "\n",
    "from utils_pv import *\n",
    "from samples.data_sim import PVDataset\n",
    "from feature_selection import tune_pacf, rfecv_selection\n",
    "from samples.data_sim import remove_feature\n",
    "\n",
    "random_seed = 3\n",
    "random.seed(random_seed)\n",
    "np.random.seed(random_seed)\n",
    "random_state = np.random.RandomState(random_seed)\n"
   ]
  },
  {
   "cell_type": "code",
   "execution_count": 2,
   "metadata": {},
   "outputs": [
    {
     "name": "stdout",
     "output_type": "stream",
     "text": [
      "/home/mahrokhg/Cloned_FL/Synthetic_PV_Profiles/samples/PV/../../saved_results/PV_UniModal_env\n"
     ]
    },
    {
     "ename": "EOFError",
     "evalue": "Ran out of input",
     "output_type": "error",
     "traceback": [
      "\u001b[0;31m---------------------------------------------------------------------------\u001b[0m",
      "\u001b[0;31mEOFError\u001b[0m                                  Traceback (most recent call last)",
      "Cell \u001b[0;32mIn [2], line 5\u001b[0m\n\u001b[1;32m      3\u001b[0m file \u001b[38;5;241m=\u001b[39m \u001b[38;5;28mopen\u001b[39m(filename_env, \u001b[38;5;124m'\u001b[39m\u001b[38;5;124mrb\u001b[39m\u001b[38;5;124m'\u001b[39m)\n\u001b[1;32m      4\u001b[0m \u001b[38;5;28mprint\u001b[39m(filename_env)\n\u001b[0;32m----> 5\u001b[0m env_dict \u001b[38;5;241m=\u001b[39m \u001b[43mpickle\u001b[49m\u001b[38;5;241;43m.\u001b[39;49m\u001b[43mload\u001b[49m\u001b[43m(\u001b[49m\u001b[43mfile\u001b[49m\u001b[43m)\u001b[49m\n\u001b[1;32m      6\u001b[0m msg \u001b[38;5;241m=\u001b[39m \u001b[38;5;124m'\u001b[39m\u001b[38;5;124m[INFO] loaded data for \u001b[39m\u001b[38;5;132;01m{:2.0f}\u001b[39;00m\u001b[38;5;124m clients\u001b[39m\u001b[38;5;124m'\u001b[39m\u001b[38;5;241m.\u001b[39mformat(env_dict[\u001b[38;5;124m'\u001b[39m\u001b[38;5;124mnum_clients\u001b[39m\u001b[38;5;124m'\u001b[39m])\n\u001b[1;32m      7\u001b[0m \u001b[38;5;28mprint\u001b[39m(msg)\n",
      "\u001b[0;31mEOFError\u001b[0m: Ran out of input"
     ]
    }
   ],
   "source": [
    "exp_name = 'PV_UniModal'\n",
    "filename_env = os.getcwd() + '/../../saved_results/' + exp_name + '_env' \n",
    "file = open(filename_env, 'rb')\n",
    "print(filename_env)\n",
    "env_dict = pickle.load(file)\n",
    "msg = '[INFO] loaded data for {:2.0f} clients'.format(env_dict['num_clients'])\n",
    "print(msg)\n",
    "file.close()\n",
    "print('\\n'+env_dict['info'])\n",
    "\n",
    "for scenario_name in env_dict['train_scenarios'].keys():\n",
    "    print(scenario_name + ' has {:3.0f} train and {:3.0f} validation samples'.format(\n",
    "                    env_dict['train_scenarios'][scenario_name]['clients_data'][0][0].shape[0],\n",
    "                    env_dict['train_scenarios'][scenario_name]['clients_data'][0][2].shape[0]))\n",
    "print('number of features = {:2.0f}'.format(\n",
    "                    env_dict['train_scenarios'][scenario_name]['clients_data'][0][0].shape[1]))"
   ]
  },
  {
   "cell_type": "code",
   "execution_count": null,
   "metadata": {},
   "outputs": [
    {
     "name": "stdout",
     "output_type": "stream",
     "text": [
      "[INFO] reconstructed the 5y scenario.\n"
     ]
    }
   ],
   "source": [
    "# reconstruct houses\n",
    "from house_pv import reconstruct_house\n",
    "scenario_name_recons='5y'\n",
    "clients_subset = [12, 14, 15, 17, 22]\n",
    "houses = [None] * env_dict['num_clients']\n",
    "for client_num in clients_subset:\n",
    "    houses[client_num] = reconstruct_house(\n",
    "                            env_dict=env_dict, \n",
    "                            client_num=client_num, \n",
    "                            scenario_name=scenario_name_recons)\n",
    "print('[INFO] reconstructed the ' + scenario_name_recons + ' scenario.')\n"
   ]
  },
  {
   "cell_type": "markdown",
   "metadata": {},
   "source": [
    "# Part 1: station irrad relevance and delay analysis\n",
    "Weather station direct and diffuse irradiation added to features of all houses\n",
    "* Irradiation measured at a weather station not at each house => economically feasible\n",
    "* Effect of including irradiation from weather station\n",
    "* Do lags add more information?\n",
    "    ** fit a linear model to 5 years of data, compare accuracies\n",
    "* Using irradiation at t to predict power at t+1 vs. \"predicted\" irradiation at t+1 to predict power at t+1\n",
    "    ** removing the need to another prediction model for the irradiation\n",
    "\n",
    "\n",
    "### Results:\n",
    "---------- LINEAR AND RIDGE REGRESSION WITHOUT GP ---------- <br>\n",
    "sml<br>\n",
    "with lags mean validation RMSE: 12.91 +/- 12.27<br>\n",
    "no lags mean validation RMSE: 20.64 +/- 19.00<br>\n",
    "no irradiation mean validation RMSE: 13.72 +/- 12.96<br>\n",
    "delayed irradiation mean validation RMSE: 13.02 +/- 12.39<br>\n",
    "1y<br>\n",
    "with lags mean validation RMSE: 11.55 +/- 11.19<br>\n",
    "no lags mean validation RMSE: 20.50 +/- 18.88<br>\n",
    "no irradiation mean validation RMSE: 12.69 +/- 12.00<br>\n",
    "delayed irradiation mean validation RMSE: 11.57 +/- 11.22<br>\n",
    "5y<br>\n",
    "with lags mean validation RMSE: 11.47 +/- 11.27<br>\n",
    "no lags mean validation RMSE: 20.43 +/- 18.93<br>\n",
    "no irradiation mean validation RMSE: 12.28 +/- 11.88<br>\n",
    "delayed irradiation mean validation RMSE: 11.50 +/- 11.30<br>\n",
    "15y<br>\n",
    "with lags mean validation RMSE: 11.48 +/- 11.28<br>\n",
    "no lags mean validation RMSE: 20.43 +/- 18.93<br>\n",
    "no irradiation mean validation RMSE: 12.23 +/- 11.70<br>\n",
    "delayed irradiation mean validation RMSE: 11.50 +/- 11.32<br>"
   ]
  },
  {
   "cell_type": "code",
   "execution_count": null,
   "metadata": {},
   "outputs": [],
   "source": [
    "run_cell = False\n",
    "if run_cell:\n",
    "    from model_training.search_models import best_lin_reg\n",
    "    normalize_data=True\n",
    "    verbose=False\n",
    "\n",
    "    num_clients=24\n",
    "    city_names = ['Lausanne']\n",
    "    env_dict_with_lags = {'city_names':city_names,\n",
    "                'num_clients': num_clients, 'num_modes': len(city_names),\n",
    "                'tilt_std': 5, 'az_std':15, 'weather_dev':0.1,\n",
    "                'irrad_std':0.2, 'altitude_dev':0.1, 'shadow_peak_red':0.6,\n",
    "                'module_name': get_available_modules('sandia')[0:num_clients],\n",
    "                'inverter_name': get_available_inverters('cec')[0:num_clients],\n",
    "                'lags':None, 'months':[3,4], 'hours':np.arange(7, 17), \n",
    "                'years':np.arange(2014, 2020), # 5 years of data\n",
    "                'use_station_irrad_direct':True, 'use_station_irrad_diffuse':True,\n",
    "                'delay_irrad':False, # this env uses predicted irrad\n",
    "                'train_scenarios':{'sml':{'m_train':50, 'train_years':[2018], 'exclude_last_year':True},\n",
    "                                '1y':{'m_train':None, 'train_years':[2018], 'exclude_last_year':True},\n",
    "                                '5y':{'m_train':None, 'train_years':np.arange(2014, 2019), 'exclude_last_year':True},\n",
    "                                '15y':{'m_train':None, 'train_years':None, 'exclude_last_year':True}}}\n",
    "    env_dict_with_lags = PVDataset(env_dict_with_lags).generate_clients_data()\n",
    "\n",
    "    env_dict_no_lags = copy.deepcopy(env_dict_with_lags)\n",
    "    env_dict_no_irrad = copy.deepcopy(env_dict_with_lags)\n",
    "    env_dict_delayed = copy.deepcopy(env_dict_with_lags)\n",
    "\n",
    "    # features to keep \n",
    "    inds_to_keep_no_lags, inds_to_keep_no_irrad = [], []\n",
    "    for ind, feature_name in enumerate(env_dict_with_lags['feature_names']):\n",
    "        if not feature_name.startswith('lag'):\n",
    "            inds_to_keep_no_lags.append(ind)\n",
    "        if not feature_name.startswith('station_irrad'):\n",
    "            inds_to_keep_no_irrad.append(ind)\n",
    "    # features to delay for delayed irrads\n",
    "    cols_to_delay=[]\n",
    "    for ind, feature_name in enumerate(env_dict_delayed['feature_names']):\n",
    "        if feature_name.startswith('station_irrad'):\n",
    "            cols_to_delay.append(ind)\n",
    "\n",
    "    # only keep the selected features\n",
    "    for client_num in np.arange(env_dict_with_lags['num_clients']):\n",
    "        for scenario in env_dict_with_lags['train_scenarios']:\n",
    "            x_train, y_train, x_valid, y_valid = env_dict_with_lags['train_scenarios'][scenario]['clients_data'][client_num]\n",
    "            # no lags\n",
    "            x_train_no_lags = x_train[:, inds_to_keep_no_lags]\n",
    "            x_valid_no_lags = x_valid[:, inds_to_keep_no_lags]\n",
    "            env_dict_no_lags['train_scenarios'][scenario]['clients_data'][client_num] = (x_train_no_lags, y_train, x_valid_no_lags, y_valid)\n",
    "            # no irrad\n",
    "            x_train_no_irrad = x_train[:, inds_to_keep_no_irrad]\n",
    "            x_valid_no_irrad = x_valid[:, inds_to_keep_no_irrad]\n",
    "            env_dict_no_irrad['train_scenarios'][scenario]['clients_data'][client_num] = (x_train_no_irrad, y_train, x_valid_no_irrad, y_valid)\n",
    "            # delayed irrad\n",
    "            # NOTE: one less sample\n",
    "            x_train_dalayed, y_train_dalayed = x_train[1:, :], y_train[1:]\n",
    "            x_valid_dalayed, y_valid_dalayed = x_valid[1:, :], y_valid[1:]\n",
    "            x_train_dalayed[:, cols_to_delay] = x_train[:-1, cols_to_delay]\n",
    "            x_valid_dalayed[:, cols_to_delay] = x_valid[:-1, cols_to_delay]\n",
    "            env_dict_delayed['train_scenarios'][scenario]['clients_data'][client_num] = (x_train_dalayed, y_train_dalayed, \n",
    "                                                            x_valid_dalayed, y_valid_dalayed)\n",
    "\n",
    "\n",
    "    env_dict_no_lags['feature_names'] = [x for i, x in enumerate(env_dict_no_lags['feature_names']) if i in inds_to_keep_no_lags]\n",
    "    env_dict_no_irrad['feature_names'] = [x for i, x in enumerate(env_dict_no_irrad['feature_names']) if i in inds_to_keep_no_irrad]\n",
    "\n",
    "\n",
    "\n",
    "    print('\\n---------- LINEAR AND RIDGE REGRESSION ----------')\n",
    "    env_names = ['with lags', 'no lags', 'no irradiation', 'delayed irradiation']\n",
    "    envs = [env_dict_with_lags, env_dict_no_lags, env_dict_no_irrad, env_dict_delayed]\n",
    "    for scenario_name in env_dict_with_lags['train_scenarios'].keys():\n",
    "        print(scenario_name)\n",
    "        for env_tmp, env_name in zip(envs, env_names):\n",
    "            # Linear regression without GP\n",
    "            valid_rmses_linreg = np.zeros(num_clients)\n",
    "            for client_num in np.arange(num_clients):\n",
    "                if verbose:\n",
    "                    print('\\nClient {:2.0f}'.format(client_num))\n",
    "                _, valid_rmses_linreg[client_num] = best_lin_reg(clients_data=env_tmp['train_scenarios'][scenario_name]['clients_data'], \n",
    "                            client_num=client_num, logger=None, normalize_data=normalize_data, verbose=verbose) \n",
    "\n",
    "            print(env_name + ' mean validation RMSE: {:2.2f} +/- {:.2f}'.format(np.mean(valid_rmses_linreg),\n",
    "                                                                    1.96*np.std(valid_rmses_linreg)))\n"
   ]
  },
  {
   "cell_type": "markdown",
   "metadata": {},
   "source": [
    "## 2.2 Checking modelling assumptions\n",
    "* multicollinearity\n",
    "* is data from each house homogeneous and i.i.d?\n",
    "* are houses independent?\n",
    "\n",
    "### 2.2.1 multicollinearity\n",
    "* VIF: measure of multicollinearity among the independent variables\n",
    "* multicollinearity does not reduce the explanatory power of the model, but reduces the statistical significance of the independent variables\n",
    "* VIF=1 (no multicol), VIF<5 (ok), VIF>10 (strong)\n",
    "conclusion: remove lag 4 to reduce multicollinearity"
   ]
  },
  {
   "cell_type": "code",
   "execution_count": null,
   "metadata": {},
   "outputs": [
    {
     "name": "stdout",
     "output_type": "stream",
     "text": [
      "\n",
      " Train scenario:  sml\n"
     ]
    },
    {
     "name": "stderr",
     "output_type": "stream",
     "text": [
      "/tmp/ipykernel_1828299/2745311351.py:18: FutureWarning: Dropping of nuisance columns in DataFrame reductions (with 'numeric_only=None') is deprecated; in a future version this will raise TypeError.  Select only valid columns before calling the reduction.\n",
      "  vif_data[\"average\"] = vif_data.mean(axis=1)\n"
     ]
    },
    {
     "name": "stdout",
     "output_type": "stream",
     "text": [
      "features with av. VIF>10:  ['lag 1' 'lag 3' 'lag 4' 'lag 18']\n",
      "\n",
      " Train scenario:  1y\n"
     ]
    },
    {
     "name": "stderr",
     "output_type": "stream",
     "text": [
      "/tmp/ipykernel_1828299/2745311351.py:18: FutureWarning: Dropping of nuisance columns in DataFrame reductions (with 'numeric_only=None') is deprecated; in a future version this will raise TypeError.  Select only valid columns before calling the reduction.\n",
      "  vif_data[\"average\"] = vif_data.mean(axis=1)\n"
     ]
    },
    {
     "name": "stdout",
     "output_type": "stream",
     "text": [
      "features with av. VIF>10:  ['lag 1' 'lag 4']\n",
      "\n",
      " Train scenario:  5y\n"
     ]
    },
    {
     "name": "stderr",
     "output_type": "stream",
     "text": [
      "/tmp/ipykernel_1828299/2745311351.py:18: FutureWarning: Dropping of nuisance columns in DataFrame reductions (with 'numeric_only=None') is deprecated; in a future version this will raise TypeError.  Select only valid columns before calling the reduction.\n",
      "  vif_data[\"average\"] = vif_data.mean(axis=1)\n"
     ]
    },
    {
     "name": "stdout",
     "output_type": "stream",
     "text": [
      "features with av. VIF>10:  ['lag 1' 'lag 2' 'lag 3' 'lag 4' 'lag 18']\n",
      "\n",
      " Train scenario:  15y\n",
      "features with av. VIF>10:  ['lag 1' 'lag 2' 'lag 3' 'lag 4' 'lag 18']\n"
     ]
    },
    {
     "name": "stderr",
     "output_type": "stream",
     "text": [
      "/tmp/ipykernel_1828299/2745311351.py:18: FutureWarning: Dropping of nuisance columns in DataFrame reductions (with 'numeric_only=None') is deprecated; in a future version this will raise TypeError.  Select only valid columns before calling the reduction.\n",
      "  vif_data[\"average\"] = vif_data.mean(axis=1)\n"
     ]
    }
   ],
   "source": [
    "from statsmodels.stats.outliers_influence import variance_inflation_factor\n",
    "\n",
    "high_vif_feat = []\n",
    "for train_scenario in env_dict['train_scenarios'].keys():\n",
    "    print('\\n Train scenario: ', train_scenario)\n",
    "    # VIF dataframe\n",
    "    vif_data = pd.DataFrame()\n",
    "    vif_data[\"feature\"] = env_dict['feature_names']\n",
    "    for client_num in np.arange(env_dict['num_clients']):\n",
    "        # get train data\n",
    "        X_train = env_dict['train_scenarios'][train_scenario]['clients_data'][client_num][0]\n",
    "        # normalize train data\n",
    "        X_train = (X_train - np.mean(X_train, axis=0))/ np.std(X_train, axis=0)\n",
    "        # calculating VIF for each feature\n",
    "        vif_data[str(client_num)] = [variance_inflation_factor(X_train, i)\n",
    "                                for i in range(len(env_dict['feature_names']))]\n",
    "\n",
    "    vif_data[\"average\"] = vif_data.mean(axis=1)\n",
    "    high_vif_this_scen = vif_data.loc[vif_data.loc[:, \"average\"]>10, 'feature'].values\n",
    "    print('features with av. VIF>10: ', high_vif_this_scen)\n",
    "    [high_vif_feat.append(x) for x in high_vif_this_scen if not x in high_vif_feat]\n",
    "    "
   ]
  },
  {
   "cell_type": "code",
   "execution_count": null,
   "metadata": {},
   "outputs": [
    {
     "name": "stderr",
     "output_type": "stream",
     "text": [
      "/tmp/ipykernel_1828299/3968648274.py:26: FutureWarning: Dropping of nuisance columns in DataFrame reductions (with 'numeric_only=None') is deprecated; in a future version this will raise TypeError.  Select only valid columns before calling the reduction.\n",
      "  vif_data[\"average\"] = vif_data.mean(axis=1)\n"
     ]
    },
    {
     "name": "stdout",
     "output_type": "stream",
     "text": [
      "\n",
      "Removing feature  lag 1\n",
      "features with av. VIF>10:  ['lag 4']\n",
      " 6 features with av. VIF>5\n"
     ]
    },
    {
     "name": "stderr",
     "output_type": "stream",
     "text": [
      "/tmp/ipykernel_1828299/3968648274.py:26: FutureWarning: Dropping of nuisance columns in DataFrame reductions (with 'numeric_only=None') is deprecated; in a future version this will raise TypeError.  Select only valid columns before calling the reduction.\n",
      "  vif_data[\"average\"] = vif_data.mean(axis=1)\n"
     ]
    },
    {
     "name": "stdout",
     "output_type": "stream",
     "text": [
      "\n",
      "Removing feature  lag 3\n",
      "features with av. VIF>10:  ['lag 1']\n",
      " 7 features with av. VIF>5\n"
     ]
    },
    {
     "name": "stderr",
     "output_type": "stream",
     "text": [
      "/tmp/ipykernel_1828299/3968648274.py:26: FutureWarning: Dropping of nuisance columns in DataFrame reductions (with 'numeric_only=None') is deprecated; in a future version this will raise TypeError.  Select only valid columns before calling the reduction.\n",
      "  vif_data[\"average\"] = vif_data.mean(axis=1)\n"
     ]
    },
    {
     "name": "stdout",
     "output_type": "stream",
     "text": [
      "\n",
      "Removing feature  lag 4\n",
      "features with av. VIF>10:  ['lag 1']\n",
      " 6 features with av. VIF>5\n"
     ]
    },
    {
     "name": "stderr",
     "output_type": "stream",
     "text": [
      "/tmp/ipykernel_1828299/3968648274.py:26: FutureWarning: Dropping of nuisance columns in DataFrame reductions (with 'numeric_only=None') is deprecated; in a future version this will raise TypeError.  Select only valid columns before calling the reduction.\n",
      "  vif_data[\"average\"] = vif_data.mean(axis=1)\n"
     ]
    },
    {
     "name": "stdout",
     "output_type": "stream",
     "text": [
      "\n",
      "Removing feature  lag 18\n",
      "features with av. VIF>10:  ['lag 1' 'lag 4']\n",
      " 6 features with av. VIF>5\n",
      "\n",
      "Removing feature  lag 2\n",
      "features with av. VIF>10:  ['lag 1']\n",
      " 7 features with av. VIF>5\n"
     ]
    },
    {
     "name": "stderr",
     "output_type": "stream",
     "text": [
      "/tmp/ipykernel_1828299/3968648274.py:26: FutureWarning: Dropping of nuisance columns in DataFrame reductions (with 'numeric_only=None') is deprecated; in a future version this will raise TypeError.  Select only valid columns before calling the reduction.\n",
      "  vif_data[\"average\"] = vif_data.mean(axis=1)\n"
     ]
    }
   ],
   "source": [
    "# reduce VIF by removing one feature based on 15y data\n",
    "train_scenario = '1y'\n",
    "min_num_high_vif = len(high_vif_feat)\n",
    "\n",
    "for feat_to_remove in high_vif_feat:\n",
    "    # VIF dataframe\n",
    "    vif_data = pd.DataFrame()\n",
    "    all_feat = copy.deepcopy(env_dict['feature_names'])\n",
    "    all_feat.remove(feat_to_remove)\n",
    "    vif_data[\"feature\"] = all_feat\n",
    "    feat_to_keep_ind = np.setdiff1d(\n",
    "        np.arange(len(env_dict['feature_names'])),\n",
    "        np.array(env_dict['feature_names'].index(feat_to_remove))\n",
    "        )\n",
    "    for client_num in np.arange(env_dict['num_clients']):\n",
    "        # get train data\n",
    "        X_train = env_dict['train_scenarios'][train_scenario]['clients_data'][client_num][0]\n",
    "        # remove feat\n",
    "        X_train = X_train[:, feat_to_keep_ind]\n",
    "        # normalize train data\n",
    "        X_train = (X_train - np.mean(X_train, axis=0))/ np.std(X_train, axis=0)\n",
    "        # calculating VIF for each feature\n",
    "        vif_data[str(client_num)] = [variance_inflation_factor(X_train, i)\n",
    "                                for i in range(X_train.shape[1])]\n",
    "\n",
    "    vif_data[\"average\"] = vif_data.mean(axis=1)\n",
    "    print('\\nRemoving feature ', feat_to_remove)\n",
    "    high_vif_red = vif_data.loc[vif_data.loc[:, \"average\"]>10, 'feature'].values\n",
    "    print('features with av. VIF>10: ', high_vif_red)\n",
    "    print('{:2.0f} features with av. VIF>5'.format(\n",
    "        len(vif_data.loc[vif_data.loc[:, \"average\"]>5, 'feature'].values)))"
   ]
  },
  {
   "cell_type": "markdown",
   "metadata": {},
   "source": [
    "### 2.2.2 is data from each house homogeneous and i.i.d?\n"
   ]
  },
  {
   "cell_type": "markdown",
   "metadata": {},
   "source": [
    "### covariate shift between train and test samples\n",
    "Is the dist of each feature in the train and test sets the same?\n",
    "* create a random sample of training and test data, divide to train and val \n",
    "* train a model taking one feature at a time to classify samples for being a part of the test dataset \n",
    "* compute AUC-ROC for each feature  on validation set, if greater than 0.80, we classify that feature as drifting."
   ]
  },
  {
   "cell_type": "code",
   "execution_count": null,
   "metadata": {},
   "outputs": [
    {
     "name": "stdout",
     "output_type": "stream",
     "text": [
      "T2m 0.8885245901639345\n"
     ]
    },
    {
     "data": {
      "image/png": "[encoded data removed]",
      "text/plain": [
       "<Figure size 640x480 with 1 Axes>"
      ]
     },
     "metadata": {},
     "output_type": "display_data"
    },
    {
     "name": "stdout",
     "output_type": "stream",
     "text": [
      "WS10m 0.9704918032786886\n"
     ]
    },
    {
     "data": {
      "image/png": "[encoded data removed]",
      "text/plain": [
       "<Figure size 640x480 with 1 Axes>"
      ]
     },
     "metadata": {},
     "output_type": "display_data"
    },
    {
     "name": "stdout",
     "output_type": "stream",
     "text": [
      "station_irrad_direct_prev 0.8426229508196721\n"
     ]
    },
    {
     "data": {
      "image/png": "[encoded data removed]",
      "text/plain": [
       "<Figure size 640x480 with 1 Axes>"
      ]
     },
     "metadata": {},
     "output_type": "display_data"
    },
    {
     "name": "stdout",
     "output_type": "stream",
     "text": [
      "lag 1 0.8754098360655738\n"
     ]
    },
    {
     "data": {
      "image/png": "[encoded data removed]",
      "text/plain": [
       "<Figure size 640x480 with 1 Axes>"
      ]
     },
     "metadata": {},
     "output_type": "display_data"
    },
    {
     "name": "stdout",
     "output_type": "stream",
     "text": [
      "lag 19 0.8065573770491803\n"
     ]
    },
    {
     "data": {
      "image/png": "[encoded data removed]",
      "text/plain": [
       "<Figure size 640x480 with 1 Axes>"
      ]
     },
     "metadata": {},
     "output_type": "display_data"
    },
    {
     "name": "stdout",
     "output_type": "stream",
     "text": [
      "lag 23 0.9704918032786886\n"
     ]
    },
    {
     "data": {
      "image/png": "[encoded data removed]",
      "text/plain": [
       "<Figure size 640x480 with 1 Axes>"
      ]
     },
     "metadata": {},
     "output_type": "display_data"
    },
    {
     "name": "stdout",
     "output_type": "stream",
     "text": [
      "lag 120 1.0\n"
     ]
    },
    {
     "data": {
      "image/png": "[encoded data removed]",
      "text/plain": [
       "<Figure size 640x480 with 1 Axes>"
      ]
     },
     "metadata": {},
     "output_type": "display_data"
    },
    {
     "name": "stdout",
     "output_type": "stream",
     "text": [
      "lag 121 0.9475409836065574\n"
     ]
    },
    {
     "data": {
      "image/png": "[encoded data removed]",
      "text/plain": [
       "<Figure size 640x480 with 1 Axes>"
      ]
     },
     "metadata": {},
     "output_type": "display_data"
    },
    {
     "ename": "IndexError",
     "evalue": "index 16 is out of bounds for axis 1 with size 16",
     "output_type": "error",
     "traceback": [
      "\u001b[0;31m---------------------------------------------------------------------------\u001b[0m",
      "\u001b[0;31mIndexError\u001b[0m                                Traceback (most recent call last)",
      "Cell \u001b[0;32mIn [14], line 54\u001b[0m\n\u001b[1;32m     52\u001b[0m     score \u001b[38;5;241m=\u001b[39m \u001b[38;5;28msum\u001b[39m(score)\u001b[38;5;241m/\u001b[39m\u001b[38;5;28mlen\u001b[39m(score)\n\u001b[1;32m     53\u001b[0m \u001b[38;5;28;01melse\u001b[39;00m:\n\u001b[0;32m---> 54\u001b[0m     model\u001b[38;5;241m.\u001b[39mfit(\u001b[43mX_train\u001b[49m\u001b[43m[\u001b[49m\u001b[43m:\u001b[49m\u001b[43m,\u001b[49m\u001b[43m \u001b[49m\u001b[43mcol_ind\u001b[49m\u001b[43m]\u001b[49m\u001b[38;5;241m.\u001b[39mreshape(\u001b[38;5;241m-\u001b[39m\u001b[38;5;241m1\u001b[39m, \u001b[38;5;241m1\u001b[39m), y_train)\n\u001b[1;32m     55\u001b[0m     score \u001b[38;5;241m=\u001b[39m model\u001b[38;5;241m.\u001b[39mscore(X_valid[:, col_ind]\u001b[38;5;241m.\u001b[39mreshape(\u001b[38;5;241m-\u001b[39m\u001b[38;5;241m1\u001b[39m, \u001b[38;5;241m1\u001b[39m), y_valid)\n\u001b[1;32m     56\u001b[0m \u001b[38;5;28;01mif\u001b[39;00m score\u001b[38;5;241m>\u001b[39m\u001b[38;5;241m0.8\u001b[39m:\n",
      "\u001b[0;31mIndexError\u001b[0m: index 16 is out of bounds for axis 1 with size 16"
     ]
    }
   ],
   "source": [
    "## importing libraries\n",
    "from pandas import Series, DataFrame\n",
    "\n",
    "from sklearn.ensemble import RandomForestClassifier\n",
    "from sklearn.model_selection import cross_val_score\n",
    "\n",
    "train_scenario = '1y'\n",
    "client_num = 0\n",
    "use_cv = False\n",
    "\n",
    "# get train data\n",
    "X_train, _, X_valid, _ = env_dict['train_scenarios'][train_scenario]['clients_data'][client_num]\n",
    "# normalize both sets with train stats\n",
    "X_mean = np.mean(X_train, axis=0) \n",
    "X_std = np.std(X_train, axis=0) \n",
    "X_train = (X_train-X_mean)/X_std\n",
    "X_valid = (X_valid-X_mean)/X_std \n",
    "\n",
    "# sample\n",
    "num_samp = min(X_train.shape[0], X_valid.shape[0])\n",
    "X_train = X_train[np.random.randint(low=0, high=X_train.shape[1], size=num_samp)]\n",
    "X_valid = X_valid[np.random.randint(low=0, high=X_valid.shape[1], size=num_samp)]\n",
    "assert X_train.shape==X_valid.shape\n",
    "\n",
    "# creating a pd\n",
    "df_train = pd.DataFrame(X_train, columns = env_dict['feature_names'])\n",
    "df_train['is_valid'] = 0\n",
    "df_valid = pd.DataFrame(X_valid, columns = env_dict['feature_names'])\n",
    "df_valid['is_valid'] = 1\n",
    "df = pd.concat((df_train, df_valid), axis=0).sample(frac=1) # shuffle\n",
    "\n",
    "if use_cv:\n",
    "    y = df.loc[:, 'is_valid'].to_numpy()\n",
    "    df = df.drop('is_valid', axis=1)\n",
    "    X = df.to_numpy()\n",
    "else:\n",
    "    # divide to train and valid\n",
    "    num_train = int(2*num_samp*0.75)\n",
    "    df_train = df.iloc[np.arange(num_train), :]\n",
    "    df_valid = df.iloc[np.arange(num_train, 2*num_samp), :]\n",
    "    y_train = df_train.loc[:, 'is_valid']\n",
    "    y_valid = df_valid.loc[:, 'is_valid']\n",
    "    X_train = df_train.drop('is_valid', axis=1).to_numpy()\n",
    "    X_valid = df_valid.drop('is_valid', axis=1).to_numpy()\n",
    "\n",
    "# modelling\n",
    "model = RandomForestClassifier(n_estimators = 50, max_depth = 5,min_samples_leaf = 5)\n",
    "drop_list = []\n",
    "for col_ind, col_name in enumerate(df.columns):\n",
    "    if use_cv:\n",
    "        score = cross_val_score(model, X[:, col_ind].reshape(-1, 1), y, cv=3, scoring='roc_auc')\n",
    "        score = sum(score)/len(score)\n",
    "    else:\n",
    "        model.fit(X_train[:, col_ind].reshape(-1, 1), y_train)\n",
    "        score = model.score(X_valid[:, col_ind].reshape(-1, 1), y_valid)\n",
    "    if score>0.8:\n",
    "        drop_list.append(col_name)\n",
    "        print(col_name, np.mean(score))\n",
    "\n",
    "        bins = np.linspace(min(X_train[:, col_ind]), max(X_train[:, col_ind]), 20)\n",
    "        print(X_train[:, col_ind].shape, X_valid[:, col_ind].shape)\n",
    "        plt.hist(X_train[:, col_ind], bins, alpha=0.5, label='train')\n",
    "        plt.hist(X_valid[:, col_ind], bins, alpha=0.5, label='valid')\n",
    "        plt.legend(loc='upper right')\n",
    "        plt.show()"
   ]
  },
  {
   "cell_type": "markdown",
   "metadata": {},
   "source": [
    "### 2.2.3 are houses independent?"
   ]
  },
  {
   "cell_type": "markdown",
   "metadata": {},
   "source": [
    "# Part 3: Measuring Heterogeneity"
   ]
  },
  {
   "cell_type": "markdown",
   "metadata": {},
   "source": []
  }
 ],
 "metadata": {
  "kernelspec": {
   "display_name": "Python 3.8.10 64-bit",
   "language": "python",
   "name": "python3"
  },
  "language_info": {
   "codemirror_mode": {
    "name": "ipython",
    "version": 3
   },
   "file_extension": ".py",
   "mimetype": "text/x-python",
   "name": "python",
   "nbconvert_exporter": "python",
   "pygments_lexer": "ipython3",
   "version": "3.8.10"
  },
  "vscode": {
   "interpreter": {
    "hash": "31f2aee4e71d21fbe5cf8b01ff0e069b9275f58929596ceb00d14d90e3e16cd6"
   }
  }
 },
 "nbformat": 4,
 "nbformat_minor": 4
}
